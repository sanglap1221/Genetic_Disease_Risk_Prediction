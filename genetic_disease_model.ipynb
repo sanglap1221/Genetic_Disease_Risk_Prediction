{
 "cells": [
  {
   "cell_type": "code",
   "execution_count": 1,
   "id": "2edf574e-4e5a-44c3-880d-425f23e5f8f1",
   "metadata": {},
   "outputs": [
    {
     "name": "stdout",
     "output_type": "stream",
     "text": [
      "Validation Accuracy: 83.31%\n"
     ]
    },
    {
     "data": {
      "text/plain": [
       "['genetic_risk_model.pkl']"
      ]
     },
     "execution_count": 1,
     "metadata": {},
     "output_type": "execute_result"
    }
   ],
   "source": [
    "# genetic_disease_model.py (converted from .ipynb)\n",
    "\n",
    "import pandas as pd\n",
    "from sklearn.ensemble import RandomForestClassifier\n",
    "from sklearn.model_selection import train_test_split\n",
    "from sklearn.metrics import accuracy_score\n",
    "import joblib\n",
    "\n",
    "# Load dataset\n",
    "df = pd.read_csv(\"/home/sanglap/Documents/Project/my_project/archive/train_genetic_disorders.csv\")\n",
    "\n",
    "# Drop rows with missing values in important columns\n",
    "df = df.dropna(subset=[\"Genetic Disorder\"])\n",
    "\n",
    "# Create a risk level target based on disorder type\n",
    "risk_mapping = {\n",
    "    'Mitochondrial genetic inheritance disorders': 'High',\n",
    "    'Single-gene inheritance disorders': 'Moderate',\n",
    "    'Multifactorial genetic inheritance disorders': 'Low'\n",
    "}\n",
    "\n",
    "# Map the disorder to risk level\n",
    "df['Risk Level'] = df['Genetic Disorder'].map(risk_mapping)\n",
    "\n",
    "# Drop rows with unmapped risk\n",
    "df = df.dropna(subset=['Risk Level'])\n",
    "\n",
    "# Define features\n",
    "features = [\n",
    "    \"Mother's age\", \"Father's age\", 'Blood test result', 'Birth defects', 'Gender',\n",
    "    \"Genes in mother's side\", 'Inherited from father', 'Maternal gene', 'Paternal gene',\n",
    "    'White Blood cell count (thousand per microliter)', 'Blood cell count (mcL)',\n",
    "    'Folic acid details (peri-conceptional)', 'H/O serious maternal illness',\n",
    "    'H/O radiation exposure (x-ray)', 'H/O substance abuse',\n",
    "    'Assisted conception IVF/ART', 'History of anomalies in previous pregnancies',\n",
    "    'No. of previous abortion'\n",
    "]\n",
    "\n",
    "# Filter valid rows\n",
    "df = df.dropna(subset=features)\n",
    "\n",
    "# One-hot encode and prepare data\n",
    "X = pd.get_dummies(df[features])\n",
    "y = df['Risk Level']\n",
    "\n",
    "# Save model features\n",
    "joblib.dump(X.columns, \"model_features.pkl\")\n",
    "\n",
    "# Split data\n",
    "X_train, X_test, y_train, y_test = train_test_split(X, y, test_size=0.2, random_state=42)\n",
    "\n",
    "# Train model\n",
    "model = RandomForestClassifier(n_estimators=100, random_state=42)\n",
    "model.fit(X_train, y_train)\n",
    "\n",
    "# Evaluate model\n",
    "preds = model.predict(X_test)\n",
    "preds_proba = model.predict_proba(X_test)\n",
    "pred_confidence = [max(prob) for prob in preds_proba]\n",
    "acc = accuracy_score(y_test, preds)\n",
    "print(f\"Validation Accuracy: {acc*100:.2f}%\")\n",
    "\n",
    "# Save model\n",
    "joblib.dump(model, \"genetic_risk_model.pkl\")\n"
   ]
  }
 ],
 "metadata": {
  "kernelspec": {
   "display_name": "Python (myenv)",
   "language": "python",
   "name": "myenv"
  },
  "language_info": {
   "codemirror_mode": {
    "name": "ipython",
    "version": 3
   },
   "file_extension": ".py",
   "mimetype": "text/x-python",
   "name": "python",
   "nbconvert_exporter": "python",
   "pygments_lexer": "ipython3",
   "version": "3.12.3"
  }
 },
 "nbformat": 4,
 "nbformat_minor": 5
}
